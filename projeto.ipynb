{
 "cells": [
  {
   "cell_type": "markdown",
   "metadata": {},
   "source": [
    "# Projeto Python IA: Inteligência Artificial e Previsões\n",
    "\n",
    "### Case: Score de Crédito dos Clientes\n",
    "\n",
    "Você foi contratado por um banco para conseguir definir o score de crédito dos clientes. Você precisa analisar todos os clientes do banco e, com base nessa análise, criar um modelo que consiga ler as informações do cliente e dizer automaticamente o score de crédito dele: Ruim, Ok, Bom\n",
    "\n",
    "Arquivos da aula: https://drive.google.com/drive/folders/1FbDqVq4XLvU85VBlVIMJ73p9oOu6u2-J?usp=drive_link"
   ]
  },
  {
   "cell_type": "code",
   "execution_count": null,
   "metadata": {},
   "outputs": [],
   "source": [
    "# Score de crédito do cliente\n",
    "# Bom\n",
    "# Ok\n",
    "# Ruim\n",
    "\n",
    "# Passo a Passo\n",
    "# Passo 0: Entender o desafio e a empresa\n",
    "# Passo 1: Importar o banco de dados\n",
    "import pandas as pd\n",
    "\n",
    "db = pd.read_csv(\"clientes.csv\")\n",
    "\n",
    "display(db)"
   ]
  },
  {
   "cell_type": "code",
   "execution_count": null,
   "metadata": {},
   "outputs": [],
   "source": [
    "# Passo 2: Preparar a base de dados para inteligencia artificial\n",
    "display(db.info())\n",
    "\n",
    "# Transformar os textos em numeros\n",
    "\n",
    "# LabelEncoder\n",
    "from sklearn.preprocessing import LabelEncoder\n",
    "\n",
    "# profissao\n",
    "# cientista -> 1\n",
    "# mecanico -> 2\n",
    "# ator -> 3\n",
    "codificador_profissao = LabelEncoder()\n",
    "db[\"profissao\"] = codificador_profissao.fit_transform(db[\"profissao\"])\n",
    "\n",
    "\n",
    "# mix_credito\n",
    "codificador_mix_credito = LabelEncoder()\n",
    "db[\"mix_credito\"] = codificador_mix_credito.fit_transform(db[\"mix_credito\"])\n",
    "\n",
    "# comportamento_pagamento\n",
    "codificador_pagamento = LabelEncoder()\n",
    "db[\"comportamento_pagamento\"] = codificador_pagamento.fit_transform(db[\"comportamento_pagamento\"])\n",
    "\n",
    "display(db.info())"
   ]
  },
  {
   "cell_type": "code",
   "execution_count": null,
   "metadata": {},
   "outputs": [],
   "source": [
    "# Separar as informacoes da base de dados para a inteligencia artificial\n",
    "\n",
    "# Separar em X e Y\n",
    "# Y -> quem eu quero prever (coluna score_credito)\n",
    "# X -> as outras colunas (todas as colunas que eu vou usar para fazer a previsão)\n",
    "y = db[\"score_credito\"]\n",
    "x = db.drop(columns=[\"score_credito\", \"id_cliente\"])\n",
    "\n",
    "# Separar em dados de treino e dados de teste\n",
    "from sklearn.model_selection import train_test_split\n",
    "\n",
    "# test_size = 0.2: 20% pra teste e 80% pra treino\n",
    "x_treino, x_teste, y_treino, y_teste = train_test_split(x, y, test_size=0.3)"
   ]
  },
  {
   "cell_type": "code",
   "execution_count": null,
   "metadata": {},
   "outputs": [],
   "source": [
    "# Passo 3: Criar o modelo de IA -> Prever nota de credito\n",
    "\n",
    "# Arvore de decisao -> RandomForest\n",
    "# Vizinhos Proximos -> KNN\n",
    "\n",
    "# Importar o modelo\n",
    "from sklearn.ensemble import RandomForestClassifier\n",
    "from sklearn.neighbors import KNeighborsClassifier\n",
    "\n",
    "# Criar o modelo\n",
    "modelo_arvoredecisao = RandomForestClassifier()\n",
    "modelo_knn = KNeighborsClassifier()\n",
    "\n",
    "# Treinar o modelo\n",
    "modelo_arvoredecisao.fit(x_treino, y_treino)\n",
    "modelo_knn.fit(x_treino, y_treino)"
   ]
  },
  {
   "cell_type": "code",
   "execution_count": null,
   "metadata": {},
   "outputs": [],
   "source": [
    "# Passo 4: Escolher o melhor modelo\n",
    "\n",
    "# Previsoes\n",
    "previsao_arvoredecisao = modelo_arvoredecisao.predict(x_teste)\n",
    "previsao_knn = modelo_knn.predict(x_teste)\n",
    "\n",
    "# Acuracia\n",
    "from sklearn.metrics import accuracy_score\n",
    "\n",
    "acuracia_modeloarvore = accuracy_score(y_teste, previsao_arvoredecisao)\n",
    "acuracia_knn = accuracy_score(y_teste, previsao_knn)\n",
    "\n",
    "print(f'Acuracia Modelo Arvore: {acuracia_modeloarvore * 100:.2f}%')\n",
    "display(f'Acuracia Modelo KNN: {acuracia_knn * 100:.2f}%')"
   ]
  },
  {
   "cell_type": "code",
   "execution_count": null,
   "metadata": {},
   "outputs": [],
   "source": [
    "# Passo 5: Fazer novas previsoes\n",
    "# O melhor modelo é o de arvore de decisao\n",
    "\n",
    "# Modelo arvore de decisao\n",
    "new_clients_db = pd.read_csv(\"novos_clientes.csv\")\n",
    "\n",
    "# profissao\n",
    "new_clients_db[\"profissao\"] = codificador_profissao.fit_transform(new_clients_db[\"profissao\"])\n",
    "\n",
    "# mix_credito\n",
    "new_clients_db[\"mix_credito\"] = codificador_mix_credito.fit_transform(new_clients_db[\"mix_credito\"])\n",
    "\n",
    "# comportamento_pagamento\n",
    "new_clients_db[\"comportamento_pagamento\"] = codificador_pagamento.fit_transform(new_clients_db[\"comportamento_pagamento\"])\n",
    "\n",
    "nova_previsao = modelo_arvoredecisao.predict(new_clients_db)\n",
    "\n",
    "display(nova_previsao)"
   ]
  }
 ],
 "metadata": {
  "kernelspec": {
   "display_name": "Python 3",
   "language": "python",
   "name": "python3"
  },
  "language_info": {
   "codemirror_mode": {
    "name": "ipython",
    "version": 3
   },
   "file_extension": ".py",
   "mimetype": "text/x-python",
   "name": "python",
   "nbconvert_exporter": "python",
   "pygments_lexer": "ipython3",
   "version": "3.11.3"
  },
  "orig_nbformat": 4
 },
 "nbformat": 4,
 "nbformat_minor": 2
}
